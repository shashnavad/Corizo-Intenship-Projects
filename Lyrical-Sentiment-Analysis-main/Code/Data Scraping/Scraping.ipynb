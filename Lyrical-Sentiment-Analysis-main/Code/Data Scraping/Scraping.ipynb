{
 "cells": [
  {
   "cell_type": "code",
   "execution_count": 1,
   "id": "55fe1395",
   "metadata": {},
   "outputs": [],
   "source": [
    "import pandas as pd\n",
    "import time\n",
    "\n",
    "from webdriver_manager.microsoft import EdgeChromiumDriverManager\n",
    "from selenium.webdriver.common.by import By\n",
    "from selenium import webdriver\n",
    "from selenium.webdriver.support.ui import WebDriverWait\n",
    "from selenium.webdriver.common.by import By\n",
    "from selenium.webdriver.support import expected_conditions as EC"
   ]
  },
  {
   "cell_type": "code",
   "execution_count": 2,
   "id": "039b6c45",
   "metadata": {},
   "outputs": [],
   "source": [
    "from webdriver_manager.firefox import GeckoDriverManager\n",
    "from selenium.webdriver.firefox.service import Service"
   ]
  },
  {
   "cell_type": "code",
   "execution_count": 3,
   "id": "b47f4159",
   "metadata": {},
   "outputs": [],
   "source": [
    "service = Service(executable_path=GeckoDriverManager().install())\n",
    "\n",
    "# Set Firefox options (optional)\n",
    "options = webdriver.FirefoxOptions()\n",
    "\n",
    "# Initialize the Firefox driver with the service and options\n",
    "driver = webdriver.Firefox(service=service, options=options)\n",
    "\n",
    "# Navigate to the Billboard Hot 100 chart\n",
    "driver.get(\"https://www.billboard.com/charts/hot-100/\")\n",
    "\n",
    "# Example: Creating a list of years from 2019 to 2023\n",
    "start_year = 2019\n",
    "end_year = 2023\n",
    "\n",
    "# Example: Using a while loop to generate a list of years from start_year to end_year\n",
    "years = []\n",
    "year = start_year\n",
    "while year <= end_year:\n",
    "    years.append(str(year))\n",
    "    year += 1"
   ]
  },
  {
   "cell_type": "code",
   "execution_count": 4,
   "id": "69e778c5",
   "metadata": {},
   "outputs": [
    {
     "name": "stdout",
     "output_type": "stream",
     "text": [
      "2019\n",
      "2020\n",
      "2021\n",
      "2022\n",
      "2023\n"
     ]
    }
   ],
   "source": [
    "from selenium.webdriver.common.by import By\n",
    "\n",
    "# Dictionary to store name of artists\n",
    "artists_data = {}\n",
    "\n",
    "# Dictionary to store top 100 songs\n",
    "songs_data = {}\n",
    "\n",
    "# Initialize index for iterating through dates\n",
    "index = 0\n",
    "while index < len(years):\n",
    "    j = years[index]\n",
    "    link = \"https://www.billboard.com/charts/hot-100/{}-07-01/\".format(j)\n",
    "    driver.implicitly_wait(10)\n",
    "    driver.get(link)\n",
    "\n",
    "    # Container for referencing the division with top 100 songs\n",
    "    div = driver.find_elements(By.CLASS_NAME, 'o-chart-results-list-row-container')\n",
    "    songs, artists = [], []\n",
    "    print(j)\n",
    "    \n",
    "    # Initialize index for iterating through div elements\n",
    "    i = 0\n",
    "    while i < len(div):\n",
    "        # Getting the song name\n",
    "        song = div[i].find_element(By.CSS_SELECTOR, 'li ul li h3').text\n",
    "        # Getting the artist name\n",
    "        name = div[i].find_element(By.CSS_SELECTOR, 'li ul li span').text\n",
    "        # Appending the song and artist name to the lists\n",
    "        songs.append(song)\n",
    "        artists.append(name)\n",
    "        \n",
    "        # Move to the next div element\n",
    "        i += 1\n",
    "\n",
    "    artists_data[j] = artists\n",
    "    songs_data[j] = songs\n",
    "    \n",
    "    # Move to the next date\n",
    "    index += 1\n",
    "\n",
    "# Terminating a session and closing the active browser\n",
    "driver.close()"
   ]
  },
  {
   "cell_type": "code",
   "execution_count": 5,
   "id": "541bdd62",
   "metadata": {},
   "outputs": [],
   "source": [
    "service = Service(executable_path=GeckoDriverManager().install())\n",
    "options = webdriver.FirefoxOptions()\n",
    "driver = webdriver.Firefox(service=service, options=options)"
   ]
  },
  {
   "cell_type": "code",
   "execution_count": 6,
   "id": "237524d9",
   "metadata": {},
   "outputs": [],
   "source": [
    "# Browsing to Google\n",
    "driver.get(\"https://www.google.com\")"
   ]
  },
  {
   "cell_type": "code",
   "execution_count": 7,
   "id": "bcc281eb",
   "metadata": {},
   "outputs": [
    {
     "name": "stdout",
     "output_type": "stream",
     "text": [
      "2019\n"
     ]
    },
    {
     "ename": "NoSuchWindowException",
     "evalue": "Message: Browsing context has been discarded\nStacktrace:\nRemoteError@chrome://remote/content/shared/RemoteError.sys.mjs:8:8\nWebDriverError@chrome://remote/content/shared/webdriver/Errors.sys.mjs:191:5\nNoSuchWindowError@chrome://remote/content/shared/webdriver/Errors.sys.mjs:662:5\nassert.that/<@chrome://remote/content/shared/webdriver/Assert.sys.mjs:485:13\nassert.open@chrome://remote/content/shared/webdriver/Assert.sys.mjs:147:4\nGeckoDriver.prototype.goBack@chrome://remote/content/marionette/driver.sys.mjs:936:39\ndespatch@chrome://remote/content/marionette/server.sys.mjs:318:40\nexecute@chrome://remote/content/marionette/server.sys.mjs:289:16\nonPacket/<@chrome://remote/content/marionette/server.sys.mjs:262:20\nonPacket@chrome://remote/content/marionette/server.sys.mjs:263:9\n_onJSONObjectReady/<@chrome://remote/content/marionette/transport.sys.mjs:494:20\n",
     "output_type": "error",
     "traceback": [
      "\u001b[0;31m---------------------------------------------------------------------------\u001b[0m",
      "\u001b[0;31mNoSuchWindowException\u001b[0m                     Traceback (most recent call last)",
      "Cell \u001b[0;32mIn[7], line 47\u001b[0m\n\u001b[1;32m     44\u001b[0m rows_data\u001b[38;5;241m.\u001b[39mappend({\u001b[38;5;124m'\u001b[39m\u001b[38;5;124mTop100Year\u001b[39m\u001b[38;5;124m'\u001b[39m: year, \u001b[38;5;124m'\u001b[39m\u001b[38;5;124mSongTitle\u001b[39m\u001b[38;5;124m'\u001b[39m: song, \u001b[38;5;124m'\u001b[39m\u001b[38;5;124mArtist\u001b[39m\u001b[38;5;124m'\u001b[39m: artist, \u001b[38;5;124m'\u001b[39m\u001b[38;5;124mLyricsStatus\u001b[39m\u001b[38;5;124m'\u001b[39m: status, \u001b[38;5;124m'\u001b[39m\u001b[38;5;124mLyrics\u001b[39m\u001b[38;5;124m'\u001b[39m: lyric, \u001b[38;5;124m'\u001b[39m\u001b[38;5;124mReleaseYear\u001b[39m\u001b[38;5;124m'\u001b[39m: release_year, \u001b[38;5;124m'\u001b[39m\u001b[38;5;124mGenre\u001b[39m\u001b[38;5;124m'\u001b[39m: genre})\n\u001b[1;32m     46\u001b[0m \u001b[38;5;66;03m# Browsing back to the Google search home page\u001b[39;00m\n\u001b[0;32m---> 47\u001b[0m \u001b[43mdriver\u001b[49m\u001b[38;5;241;43m.\u001b[39;49m\u001b[43mback\u001b[49m\u001b[43m(\u001b[49m\u001b[43m)\u001b[49m\n\u001b[1;32m     49\u001b[0m \u001b[38;5;66;03m# Move to the next song\u001b[39;00m\n\u001b[1;32m     50\u001b[0m index_songs \u001b[38;5;241m+\u001b[39m\u001b[38;5;241m=\u001b[39m \u001b[38;5;241m1\u001b[39m\n",
      "File \u001b[0;32m/opt/homebrew/lib/python3.11/site-packages/selenium/webdriver/remote/webdriver.py:550\u001b[0m, in \u001b[0;36mWebDriver.back\u001b[0;34m(self)\u001b[0m\n\u001b[1;32m    542\u001b[0m \u001b[38;5;28;01mdef\u001b[39;00m \u001b[38;5;21mback\u001b[39m(\u001b[38;5;28mself\u001b[39m) \u001b[38;5;241m-\u001b[39m\u001b[38;5;241m>\u001b[39m \u001b[38;5;28;01mNone\u001b[39;00m:\n\u001b[1;32m    543\u001b[0m \u001b[38;5;250m    \u001b[39m\u001b[38;5;124;03m\"\"\"Goes one step backward in the browser history.\u001b[39;00m\n\u001b[1;32m    544\u001b[0m \n\u001b[1;32m    545\u001b[0m \u001b[38;5;124;03m    :Usage:\u001b[39;00m\n\u001b[0;32m   (...)\u001b[0m\n\u001b[1;32m    548\u001b[0m \u001b[38;5;124;03m            driver.back()\u001b[39;00m\n\u001b[1;32m    549\u001b[0m \u001b[38;5;124;03m    \"\"\"\u001b[39;00m\n\u001b[0;32m--> 550\u001b[0m     \u001b[38;5;28;43mself\u001b[39;49m\u001b[38;5;241;43m.\u001b[39;49m\u001b[43mexecute\u001b[49m\u001b[43m(\u001b[49m\u001b[43mCommand\u001b[49m\u001b[38;5;241;43m.\u001b[39;49m\u001b[43mGO_BACK\u001b[49m\u001b[43m)\u001b[49m\n",
      "File \u001b[0;32m/opt/homebrew/lib/python3.11/site-packages/selenium/webdriver/remote/webdriver.py:347\u001b[0m, in \u001b[0;36mWebDriver.execute\u001b[0;34m(self, driver_command, params)\u001b[0m\n\u001b[1;32m    345\u001b[0m response \u001b[38;5;241m=\u001b[39m \u001b[38;5;28mself\u001b[39m\u001b[38;5;241m.\u001b[39mcommand_executor\u001b[38;5;241m.\u001b[39mexecute(driver_command, params)\n\u001b[1;32m    346\u001b[0m \u001b[38;5;28;01mif\u001b[39;00m response:\n\u001b[0;32m--> 347\u001b[0m     \u001b[38;5;28;43mself\u001b[39;49m\u001b[38;5;241;43m.\u001b[39;49m\u001b[43merror_handler\u001b[49m\u001b[38;5;241;43m.\u001b[39;49m\u001b[43mcheck_response\u001b[49m\u001b[43m(\u001b[49m\u001b[43mresponse\u001b[49m\u001b[43m)\u001b[49m\n\u001b[1;32m    348\u001b[0m     response[\u001b[38;5;124m\"\u001b[39m\u001b[38;5;124mvalue\u001b[39m\u001b[38;5;124m\"\u001b[39m] \u001b[38;5;241m=\u001b[39m \u001b[38;5;28mself\u001b[39m\u001b[38;5;241m.\u001b[39m_unwrap_value(response\u001b[38;5;241m.\u001b[39mget(\u001b[38;5;124m\"\u001b[39m\u001b[38;5;124mvalue\u001b[39m\u001b[38;5;124m\"\u001b[39m, \u001b[38;5;28;01mNone\u001b[39;00m))\n\u001b[1;32m    349\u001b[0m     \u001b[38;5;28;01mreturn\u001b[39;00m response\n",
      "File \u001b[0;32m/opt/homebrew/lib/python3.11/site-packages/selenium/webdriver/remote/errorhandler.py:229\u001b[0m, in \u001b[0;36mErrorHandler.check_response\u001b[0;34m(self, response)\u001b[0m\n\u001b[1;32m    227\u001b[0m         alert_text \u001b[38;5;241m=\u001b[39m value[\u001b[38;5;124m\"\u001b[39m\u001b[38;5;124malert\u001b[39m\u001b[38;5;124m\"\u001b[39m]\u001b[38;5;241m.\u001b[39mget(\u001b[38;5;124m\"\u001b[39m\u001b[38;5;124mtext\u001b[39m\u001b[38;5;124m\"\u001b[39m)\n\u001b[1;32m    228\u001b[0m     \u001b[38;5;28;01mraise\u001b[39;00m exception_class(message, screen, stacktrace, alert_text)  \u001b[38;5;66;03m# type: ignore[call-arg]  # mypy is not smart enough here\u001b[39;00m\n\u001b[0;32m--> 229\u001b[0m \u001b[38;5;28;01mraise\u001b[39;00m exception_class(message, screen, stacktrace)\n",
      "\u001b[0;31mNoSuchWindowException\u001b[0m: Message: Browsing context has been discarded\nStacktrace:\nRemoteError@chrome://remote/content/shared/RemoteError.sys.mjs:8:8\nWebDriverError@chrome://remote/content/shared/webdriver/Errors.sys.mjs:191:5\nNoSuchWindowError@chrome://remote/content/shared/webdriver/Errors.sys.mjs:662:5\nassert.that/<@chrome://remote/content/shared/webdriver/Assert.sys.mjs:485:13\nassert.open@chrome://remote/content/shared/webdriver/Assert.sys.mjs:147:4\nGeckoDriver.prototype.goBack@chrome://remote/content/marionette/driver.sys.mjs:936:39\ndespatch@chrome://remote/content/marionette/server.sys.mjs:318:40\nexecute@chrome://remote/content/marionette/server.sys.mjs:289:16\nonPacket/<@chrome://remote/content/marionette/server.sys.mjs:262:20\nonPacket@chrome://remote/content/marionette/server.sys.mjs:263:9\n_onJSONObjectReady/<@chrome://remote/content/marionette/transport.sys.mjs:494:20\n"
     ]
    }
   ],
   "source": [
    "# List to store the rows of data\n",
    "rows_data = []\n",
    "\n",
    "# Fetching song lyrics for top 100 songs\n",
    "index_years = 0\n",
    "while index_years < len(songs_data.keys()):\n",
    "    year = list(songs_data.keys())[index_years]\n",
    "    songs_list = songs_data[year]\n",
    "    artists_list = artists_data[year]\n",
    "    \n",
    "    print(year)\n",
    "    index_songs = 0\n",
    "    while index_songs < len(songs_list):\n",
    "        song = songs_list[index_songs]\n",
    "        artist = artists_list[index_songs]\n",
    "        # Waiting for the google search button element to be clickable\n",
    "        element = WebDriverWait(driver, 20).until(EC.element_to_be_clickable((By.NAME, \"q\")))\n",
    "        # Entering the search text\n",
    "        element.send_keys(f\"{artist} {song} lyrics\")\n",
    "        # Submitting the form for Google search\n",
    "        element.submit()\n",
    "        # Preventing captcha due to bot activity\n",
    "        time.sleep(10)\n",
    "        try:\n",
    "            # Fetching the default lyrics fetched by Google using 'lyricfind'\n",
    "            lyric = driver.find_element(By.CLASS_NAME, 'xaAUmb').text\n",
    "            # If default lyrics are available, set lyric status to True\n",
    "            status = True\n",
    "        except:\n",
    "            # If default lyrics are not available, set lyric status to False\n",
    "            status = False\n",
    "            lyric = None\n",
    "        try:\n",
    "            # Fetching genre and release year of the song\n",
    "            info = driver.find_elements(By.CSS_SELECTOR, 'div.rVusze')\n",
    "            release_year = next((i.find_element(By.CLASS_NAME, 'LrzXr').text for i in info if i.find_element(By.CLASS_NAME, 'w8qArf').text == 'Released:'), None)\n",
    "            genre = next((i.find_element(By.CLASS_NAME, 'LrzXr').text for i in info if i.find_element(By.CLASS_NAME, 'w8qArf').text == 'Genres:'), None)\n",
    "        except:\n",
    "            # If genre and year information is not available\n",
    "            release_year = None\n",
    "            genre = None\n",
    "        \n",
    "        # Appending the row data to the list\n",
    "        rows_data.append({'Top100Year': year, 'SongTitle': song, 'Artist': artist, 'LyricsStatus': status, 'Lyrics': lyric, 'ReleaseYear': release_year, 'Genre': genre})\n",
    "        \n",
    "        # Browsing back to the Google search home page\n",
    "        driver.back()\n",
    "        \n",
    "        # Move to the next song\n",
    "        index_songs += 1\n",
    "\n",
    "    # Move to the next year\n",
    "    index_years += 1\n",
    "\n",
    "# Terminating the session and closing the active browser\n",
    "\n",
    "# Creating DataFrame from the list of rows data\n",
    "df = pd.DataFrame(rows_data)"
   ]
  },
  {
   "cell_type": "code",
   "execution_count": null,
   "id": "04412c74",
   "metadata": {},
   "outputs": [],
   "source": [
    "df"
   ]
  },
  {
   "cell_type": "code",
   "execution_count": null,
   "id": "f4fb4d6f",
   "metadata": {},
   "outputs": [],
   "source": [
    "# Converting DataFrame to CSV\n",
    "df.to_csv('billboard_2019_to_2023_top_100_song_lyrics.csv', index=False)"
   ]
  }
 ],
 "metadata": {
  "kernelspec": {
   "display_name": "Python 3 (ipykernel)",
   "language": "python",
   "name": "python3"
  },
  "language_info": {
   "codemirror_mode": {
    "name": "ipython",
    "version": 3
   },
   "file_extension": ".py",
   "mimetype": "text/x-python",
   "name": "python",
   "nbconvert_exporter": "python",
   "pygments_lexer": "ipython3",
   "version": "3.11.7"
  }
 },
 "nbformat": 4,
 "nbformat_minor": 5
}
