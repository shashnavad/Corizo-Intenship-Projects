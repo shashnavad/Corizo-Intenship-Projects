{
  "nbformat": 4,
  "nbformat_minor": 0,
  "metadata": {
    "colab": {
      "name": "MNIST Digit Classification Shashank Navad.ipynb",
      "provenance": []
    },
    "kernelspec": {
      "name": "python3",
      "display_name": "Python 3"
    },
    "language_info": {
      "name": "python"
    }
  },
  "cells": [
    {
      "cell_type": "markdown",
      "metadata": {
        "id": "3DR-eO17geWu"
      },
      "source": [
        "# MNIST Digit Classification"
      ]
    },
    {
      "cell_type": "markdown",
      "metadata": {
        "id": "EMefrVPCg-60"
      },
      "source": [
        "### Importing the libraries"
      ]
    },
    {
      "cell_type": "code",
      "execution_count": 29,
      "metadata": {
        "id": "FbQ75W83fSbK"
      },
      "outputs": [],
      "source": [
        "from keras.models import Sequential\n",
        "from keras.layers import Dense, Conv2D, Flatten, MaxPool2D\n",
        "from keras.datasets import mnist\n",
        "from tensorflow.keras.utils import to_categorical\n",
        "import numpy as np\n",
        "import matplotlib.pyplot as plt"
      ]
    },
    {
      "cell_type": "markdown",
      "source": [
        "### Importing the dataset"
      ],
      "metadata": {
        "id": "9R35CPRYgR8W"
      }
    },
    {
      "cell_type": "code",
      "source": [
        "(X_train, y_train), (X_test, y_test) = mnist.load_data()\n",
        "print(X_train.shape)\n",
        "print(X_test.shape)"
      ],
      "metadata": {
        "colab": {
          "base_uri": "https://localhost:8080/"
        },
        "id": "wFcZfm06feVp",
        "outputId": "83a60d7c-b159-4df9-d5cd-955c19de32ed"
      },
      "execution_count": 30,
      "outputs": [
        {
          "output_type": "stream",
          "name": "stdout",
          "text": [
            "(60000, 28, 28)\n",
            "(10000, 28, 28)\n"
          ]
        }
      ]
    },
    {
      "cell_type": "markdown",
      "source": [
        "### Sample images"
      ],
      "metadata": {
        "id": "5Vjj290ygeOd"
      }
    },
    {
      "cell_type": "code",
      "source": [
        "fig = plt.figure(figsize=(50, 10))\n",
        "\n",
        "rows = 5\n",
        "columns = 1\n",
        "\n",
        "for i in range(5):\n",
        "  fig.add_subplot(rows, columns, i+1)\n",
        "  plt.imshow(X_train[i])\n",
        "  plt.axis('off')\n"
      ],
      "metadata": {
        "colab": {
          "base_uri": "https://localhost:8080/",
          "height": 575
        },
        "id": "jsppYloPgP-X",
        "outputId": "6559a6ee-c3b2-4514-e08b-b3cbece42087"
      },
      "execution_count": 31,
      "outputs": [
        {
          "output_type": "display_data",
          "data": {
            "text/plain": [
              "<Figure size 3600x720 with 5 Axes>"
            ],
            "image/png": "[encoded data removed]"
          },
          "metadata": {
            "needs_background": "light"
          }
        }
      ]
    },
    {
      "cell_type": "markdown",
      "source": [
        "### Reshaping the data"
      ],
      "metadata": {
        "id": "c7dNVSk2gt42"
      }
    },
    {
      "cell_type": "code",
      "source": [
        "X_train = X_train.reshape(60000, 28, 28, 1)\n",
        "X_test = X_test.reshape(10000, 28, 28, 1)"
      ],
      "metadata": {
        "id": "E7zCeawAghsU"
      },
      "execution_count": 32,
      "outputs": []
    },
    {
      "cell_type": "markdown",
      "source": [
        "### One hot encoding applied on the labels"
      ],
      "metadata": {
        "id": "U2AcQIrYg5yM"
      }
    },
    {
      "cell_type": "code",
      "source": [
        "# One-Hot Encoding:\n",
        "y_train_one_hot = to_categorical(y_train)\n",
        "y_test_one_hot = to_categorical(y_test)\n",
        "print(y_train_one_hot.shape)\n",
        "print(y_test_one_hot.shape)"
      ],
      "metadata": {
        "colab": {
          "base_uri": "https://localhost:8080/"
        },
        "id": "wHmq05ucgyDt",
        "outputId": "df028b97-d482-48d9-8f6f-1b4bf1b49e5d"
      },
      "execution_count": 33,
      "outputs": [
        {
          "output_type": "stream",
          "name": "stdout",
          "text": [
            "(60000, 10)\n",
            "(10000, 10)\n"
          ]
        }
      ]
    },
    {
      "cell_type": "markdown",
      "source": [
        "### Building the Convolutional Neural Network"
      ],
      "metadata": {
        "id": "GkwHlC9chadI"
      }
    },
    {
      "cell_type": "code",
      "source": [
        "model = Sequential()\n",
        "# Convolution\n",
        "model.add(Conv2D(32, kernel_size=3, activation = 'relu', input_shape=(28,28,1)))\n",
        "# Pooling\n",
        "model.add(MaxPool2D(pool_size=(2, 2), strides=2))\n",
        "# Adding second convolutional layer\n",
        "model.add(Conv2D(64, kernel_size=3, activation='relu'))\n",
        "# Pooling\n",
        "model.add(MaxPool2D(pool_size=(2, 2), strides=2))\n",
        "# Flattening\n",
        "model.add(Flatten())\n",
        "# Full connection\n",
        "model.add(Dense(units=128,activation='relu'))\n",
        "#Output layer\n",
        "model.add(Dense(units=10,activation='sigmoid'))"
      ],
      "metadata": {
        "id": "l4stQBUGg_vo"
      },
      "execution_count": 22,
      "outputs": []
    },
    {
      "cell_type": "markdown",
      "source": [
        "### Compiling the CNN"
      ],
      "metadata": {
        "id": "1XWt0AHEjC6_"
      }
    },
    {
      "cell_type": "code",
      "source": [
        "model.compile(optimizer='adam', loss='categorical_crossentropy', metrics=['accuracy'])"
      ],
      "metadata": {
        "id": "A4fSBaXZimnt"
      },
      "execution_count": 23,
      "outputs": []
    },
    {
      "cell_type": "markdown",
      "source": [
        "### Training the model"
      ],
      "metadata": {
        "id": "H2bgVMmXjGbe"
      }
    },
    {
      "cell_type": "code",
      "source": [
        "hist = model.fit(X_train,y_train_one_hot, validation_data=(X_test,y_test_one_hot), epochs=10)"
      ],
      "metadata": {
        "colab": {
          "base_uri": "https://localhost:8080/"
        },
        "id": "5I4nK1gmixpG",
        "outputId": "026c80d3-6708-451e-ae68-d08bcd239fbc"
      },
      "execution_count": 24,
      "outputs": [
        {
          "output_type": "stream",
          "name": "stdout",
          "text": [
            "Epoch 1/10\n",
            "1875/1875 [==============================] - 56s 29ms/step - loss: 0.2788 - accuracy: 0.9538 - val_loss: 0.0596 - val_accuracy: 0.9814\n",
            "Epoch 2/10\n",
            "1875/1875 [==============================] - 55s 30ms/step - loss: 0.0592 - accuracy: 0.9826 - val_loss: 0.0497 - val_accuracy: 0.9846\n",
            "Epoch 3/10\n",
            "1875/1875 [==============================] - 55s 29ms/step - loss: 0.0481 - accuracy: 0.9858 - val_loss: 0.0533 - val_accuracy: 0.9838\n",
            "Epoch 4/10\n",
            "1875/1875 [==============================] - 54s 29ms/step - loss: 0.0390 - accuracy: 0.9882 - val_loss: 0.0630 - val_accuracy: 0.9823\n",
            "Epoch 5/10\n",
            "1875/1875 [==============================] - 53s 28ms/step - loss: 0.0333 - accuracy: 0.9899 - val_loss: 0.0641 - val_accuracy: 0.9831\n",
            "Epoch 6/10\n",
            "1875/1875 [==============================] - 56s 30ms/step - loss: 0.0297 - accuracy: 0.9911 - val_loss: 0.0469 - val_accuracy: 0.9866\n",
            "Epoch 7/10\n",
            "1875/1875 [==============================] - 53s 28ms/step - loss: 0.0246 - accuracy: 0.9927 - val_loss: 0.0651 - val_accuracy: 0.9829\n",
            "Epoch 8/10\n",
            "1875/1875 [==============================] - 54s 29ms/step - loss: 0.0223 - accuracy: 0.9931 - val_loss: 0.0989 - val_accuracy: 0.9780\n",
            "Epoch 9/10\n",
            "1875/1875 [==============================] - 53s 28ms/step - loss: 0.0217 - accuracy: 0.9937 - val_loss: 0.0703 - val_accuracy: 0.9838\n",
            "Epoch 10/10\n",
            "1875/1875 [==============================] - 53s 28ms/step - loss: 0.0222 - accuracy: 0.9936 - val_loss: 0.0677 - val_accuracy: 0.9838\n"
          ]
        }
      ]
    }
  ]
}